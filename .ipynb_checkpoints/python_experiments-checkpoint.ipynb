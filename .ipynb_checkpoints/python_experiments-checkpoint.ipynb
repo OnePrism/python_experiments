{
 "cells": [
  {
   "cell_type": "code",
   "execution_count": 3,
   "id": "ab77fd52",
   "metadata": {},
   "outputs": [],
   "source": [
    "class A:\n",
    "    def __init__(self):\n",
    "        print(\"A init\")\n",
    "\n",
    "class B:\n",
    "    def __init__(self):\n",
    "        print(\"B init\")\n",
    "\n",
    "class Test(B, A):\n",
    "    pass"
   ]
  },
  {
   "cell_type": "code",
   "execution_count": null,
   "id": "568344dc",
   "metadata": {},
   "outputs": [],
   "source": [
    "class A:\n",
    "    def __init__(self):\n",
    "        print(\"A init\")\n",
    "\n",
    "class B:\n",
    "    def __init__(self):\n",
    "        print(\"B init\")\n",
    "\n",
    "class Test(B, A):\n",
    "    def __init__(self):\n",
    "        print(\"Test function\")"
   ]
  }
 ],
 "metadata": {
  "kernelspec": {
   "display_name": "Python 3 (ipykernel)",
   "language": "python",
   "name": "python3"
  },
  "language_info": {
   "codemirror_mode": {
    "name": "ipython",
    "version": 3
   },
   "file_extension": ".py",
   "mimetype": "text/x-python",
   "name": "python",
   "nbconvert_exporter": "python",
   "pygments_lexer": "ipython3",
   "version": "3.8.10"
  }
 },
 "nbformat": 4,
 "nbformat_minor": 5
}
