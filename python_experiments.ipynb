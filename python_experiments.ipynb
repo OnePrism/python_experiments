{
 "cells": [
  {
   "cell_type": "code",
   "execution_count": 5,
   "id": "6f0753bf",
   "metadata": {},
   "outputs": [
    {
     "name": "stdout",
     "output_type": "stream",
     "text": [
      "B init\n"
     ]
    },
    {
     "data": {
      "text/plain": [
       "<__main__.Test at 0x7fbc7c0c83d0>"
      ]
     },
     "execution_count": 5,
     "metadata": {},
     "output_type": "execute_result"
    }
   ],
   "source": [
    "class A:\n",
    "    def __init__(self):\n",
    "        print(\"A init\")\n",
    "\n",
    "class B:\n",
    "    def __init__(self):\n",
    "        print(\"B init\")\n",
    "\n",
    "class Test(B, A):\n",
    "    pass\n",
    "\n",
    "Test()"
   ]
  },
  {
   "cell_type": "code",
   "execution_count": 6,
   "id": "b5703daa",
   "metadata": {},
   "outputs": [
    {
     "name": "stdout",
     "output_type": "stream",
     "text": [
      "Test function\n"
     ]
    },
    {
     "data": {
      "text/plain": [
       "<__main__.Test at 0x7fbc7c0c87c0>"
      ]
     },
     "execution_count": 6,
     "metadata": {},
     "output_type": "execute_result"
    }
   ],
   "source": [
    "class A:\n",
    "    def __init__(self):\n",
    "        print(\"A init\")\n",
    "\n",
    "class B:\n",
    "    def __init__(self):\n",
    "        print(\"B init\")\n",
    "\n",
    "class Test(B, A):\n",
    "    def __init__(self):\n",
    "        print(\"Test function\")\n",
    "\n",
    "Test()"
   ]
  },
  {
   "cell_type": "code",
   "execution_count": 12,
   "id": "575b7cc3",
   "metadata": {},
   "outputs": [
    {
     "name": "stdout",
     "output_type": "stream",
     "text": [
      "start time 1631798573.3110933\n",
      "500 search time 0.002148151397705078\n",
      "312 search time 0.002666950225830078\n",
      "500\n",
      "500 search in dic 0.0001456737518310547\n",
      "312\n",
      "312 search in dic 0.0003364086151123047\n"
     ]
    }
   ],
   "source": [
    "import time\n",
    "\n",
    "start_time = time.time()\n",
    "print(\"start time\", start_time)\n",
    "a = [i for i in range(1000)]\n",
    "\n",
    "500 in a\n",
    "print(\"500 search time\", time.time() - start_time)\n",
    "\n",
    "312 in a\n",
    "print(\"312 search time\", time.time() - start_time)\n",
    "\n",
    "b = {}\n",
    "for i in range(1000):\n",
    "    b[i] = i\n",
    "    \n",
    "start_time_1 = time.time()\n",
    "print(b[500])\n",
    "print(\"500 search in dic\", time.time() - start_time_1)\n",
    "\n",
    "print(b[312])\n",
    "print(\"312 search in dic\", time.time() - start_time_1)\n"
   ]
  },
  {
   "cell_type": "code",
   "execution_count": null,
   "id": "b5904b2c",
   "metadata": {},
   "outputs": [],
   "source": []
  }
 ],
 "metadata": {
  "kernelspec": {
   "display_name": "Python 3 (ipykernel)",
   "language": "python",
   "name": "python3"
  },
  "language_info": {
   "codemirror_mode": {
    "name": "ipython",
    "version": 3
   },
   "file_extension": ".py",
   "mimetype": "text/x-python",
   "name": "python",
   "nbconvert_exporter": "python",
   "pygments_lexer": "ipython3",
   "version": "3.8.10"
  }
 },
 "nbformat": 4,
 "nbformat_minor": 5
}
